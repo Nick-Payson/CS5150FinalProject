{
 "cells": [
  {
   "cell_type": "code",
   "execution_count": null,
   "metadata": {},
   "outputs": [],
   "source": []
  },
  {
   "cell_type": "code",
   "execution_count": 10,
   "metadata": {
    "ExecuteTime": {
     "end_time": "2024-04-12T01:15:06.134728300Z",
     "start_time": "2024-04-12T01:12:47.077493100Z"
    }
   },
   "outputs": [
    {
     "name": "stdout",
     "output_type": "stream",
     "text": [
      "Note: you may need to restart the kernel to use updated packages.\n"
     ]
    },
    {
     "name": "stderr",
     "output_type": "stream",
     "text": [
      "ERROR: Can not perform a '--user' install. User site-packages are not visible in this virtualenv.\n",
      "\n",
      "[notice] A new release of pip available: 22.3.1 -> 24.0\n",
      "[notice] To update, run: python.exe -m pip install --upgrade pip\n"
     ]
    },
    {
     "name": "stdout",
     "output_type": "stream",
     "text": [
      "Requirement already satisfied: pygame in c:\\users\\nickp\\documents\\northeastern\\semester 6 (spring 2024)\\cs5150\\final\\cs5150finalproject\\venv\\lib\\site-packages (2.1.0)\n",
      "Note: you may need to restart the kernel to use updated packages.\n"
     ]
    },
    {
     "name": "stderr",
     "output_type": "stream",
     "text": [
      "\n",
      "[notice] A new release of pip available: 22.3.1 -> 24.0\n",
      "[notice] To update, run: python.exe -m pip install --upgrade pip\n"
     ]
    },
    {
     "name": "stdout",
     "output_type": "stream",
     "text": [
      "Requirement already satisfied: gym[box2d] in c:\\users\\nickp\\documents\\northeastern\\semester 6 (spring 2024)\\cs5150\\final\\cs5150finalproject\\venv\\lib\\site-packages (0.26.2)\n",
      "Requirement already satisfied: gym-notices>=0.0.4 in c:\\users\\nickp\\documents\\northeastern\\semester 6 (spring 2024)\\cs5150\\final\\cs5150finalproject\\venv\\lib\\site-packages (from gym[box2d]) (0.0.8)\n",
      "Requirement already satisfied: numpy>=1.18.0 in c:\\users\\nickp\\documents\\northeastern\\semester 6 (spring 2024)\\cs5150\\final\\cs5150finalproject\\venv\\lib\\site-packages (from gym[box2d]) (1.24.4)\n",
      "Requirement already satisfied: importlib-metadata>=4.8.0 in c:\\users\\nickp\\documents\\northeastern\\semester 6 (spring 2024)\\cs5150\\final\\cs5150finalproject\\venv\\lib\\site-packages (from gym[box2d]) (7.1.0)\n",
      "Requirement already satisfied: cloudpickle>=1.2.0 in c:\\users\\nickp\\documents\\northeastern\\semester 6 (spring 2024)\\cs5150\\final\\cs5150finalproject\\venv\\lib\\site-packages (from gym[box2d]) (3.0.0)\n",
      "Requirement already satisfied: box2d-py==2.3.5 in c:\\users\\nickp\\documents\\northeastern\\semester 6 (spring 2024)\\cs5150\\final\\cs5150finalproject\\venv\\lib\\site-packages (from gym[box2d]) (2.3.5)\n",
      "Requirement already satisfied: swig==4.* in c:\\users\\nickp\\documents\\northeastern\\semester 6 (spring 2024)\\cs5150\\final\\cs5150finalproject\\venv\\lib\\site-packages (from gym[box2d]) (4.2.1)\n",
      "Requirement already satisfied: pygame==2.1.0 in c:\\users\\nickp\\documents\\northeastern\\semester 6 (spring 2024)\\cs5150\\final\\cs5150finalproject\\venv\\lib\\site-packages (from gym[box2d]) (2.1.0)\n",
      "Requirement already satisfied: zipp>=0.5 in c:\\users\\nickp\\documents\\northeastern\\semester 6 (spring 2024)\\cs5150\\final\\cs5150finalproject\\venv\\lib\\site-packages (from importlib-metadata>=4.8.0->gym[box2d]) (3.18.1)\n",
      "Note: you may need to restart the kernel to use updated packages.\n"
     ]
    },
    {
     "name": "stderr",
     "output_type": "stream",
     "text": [
      "\n",
      "[notice] A new release of pip available: 22.3.1 -> 24.0\n",
      "[notice] To update, run: python.exe -m pip install --upgrade pip\n"
     ]
    },
    {
     "name": "stdout",
     "output_type": "stream",
     "text": [
      "Requirement already satisfied: numpy in c:\\users\\nickp\\documents\\northeastern\\semester 6 (spring 2024)\\cs5150\\final\\cs5150finalproject\\venv\\lib\\site-packages (1.24.4)\n",
      "Note: you may need to restart the kernel to use updated packages.\n"
     ]
    },
    {
     "name": "stderr",
     "output_type": "stream",
     "text": [
      "\n",
      "[notice] A new release of pip available: 22.3.1 -> 24.0\n",
      "[notice] To update, run: python.exe -m pip install --upgrade pip\n"
     ]
    },
    {
     "name": "stdout",
     "output_type": "stream",
     "text": [
      "Requirement already satisfied: matplotlib in c:\\users\\nickp\\documents\\northeastern\\semester 6 (spring 2024)\\cs5150\\final\\cs5150finalproject\\venv\\lib\\site-packages (3.7.5)\n",
      "Requirement already satisfied: cycler>=0.10 in c:\\users\\nickp\\documents\\northeastern\\semester 6 (spring 2024)\\cs5150\\final\\cs5150finalproject\\venv\\lib\\site-packages (from matplotlib) (0.12.1)\n",
      "Requirement already satisfied: python-dateutil>=2.7 in c:\\users\\nickp\\documents\\northeastern\\semester 6 (spring 2024)\\cs5150\\final\\cs5150finalproject\\venv\\lib\\site-packages (from matplotlib) (2.9.0.post0)\n",
      "Requirement already satisfied: pillow>=6.2.0 in c:\\users\\nickp\\documents\\northeastern\\semester 6 (spring 2024)\\cs5150\\final\\cs5150finalproject\\venv\\lib\\site-packages (from matplotlib) (10.3.0)\n",
      "Requirement already satisfied: kiwisolver>=1.0.1 in c:\\users\\nickp\\documents\\northeastern\\semester 6 (spring 2024)\\cs5150\\final\\cs5150finalproject\\venv\\lib\\site-packages (from matplotlib) (1.4.5)\n",
      "Requirement already satisfied: numpy<2,>=1.20 in c:\\users\\nickp\\documents\\northeastern\\semester 6 (spring 2024)\\cs5150\\final\\cs5150finalproject\\venv\\lib\\site-packages (from matplotlib) (1.24.4)\n",
      "Requirement already satisfied: fonttools>=4.22.0 in c:\\users\\nickp\\documents\\northeastern\\semester 6 (spring 2024)\\cs5150\\final\\cs5150finalproject\\venv\\lib\\site-packages (from matplotlib) (4.51.0)\n",
      "Requirement already satisfied: contourpy>=1.0.1 in c:\\users\\nickp\\documents\\northeastern\\semester 6 (spring 2024)\\cs5150\\final\\cs5150finalproject\\venv\\lib\\site-packages (from matplotlib) (1.1.1)\n",
      "Requirement already satisfied: pyparsing>=2.3.1 in c:\\users\\nickp\\documents\\northeastern\\semester 6 (spring 2024)\\cs5150\\final\\cs5150finalproject\\venv\\lib\\site-packages (from matplotlib) (3.1.2)\n",
      "Requirement already satisfied: importlib-resources>=3.2.0 in c:\\users\\nickp\\documents\\northeastern\\semester 6 (spring 2024)\\cs5150\\final\\cs5150finalproject\\venv\\lib\\site-packages (from matplotlib) (6.4.0)\n",
      "Requirement already satisfied: packaging>=20.0 in c:\\users\\nickp\\documents\\northeastern\\semester 6 (spring 2024)\\cs5150\\final\\cs5150finalproject\\venv\\lib\\site-packages (from matplotlib) (24.0)\n",
      "Requirement already satisfied: zipp>=3.1.0 in c:\\users\\nickp\\documents\\northeastern\\semester 6 (spring 2024)\\cs5150\\final\\cs5150finalproject\\venv\\lib\\site-packages (from importlib-resources>=3.2.0->matplotlib) (3.18.1)\n",
      "Requirement already satisfied: six>=1.5 in c:\\users\\nickp\\documents\\northeastern\\semester 6 (spring 2024)\\cs5150\\final\\cs5150finalproject\\venv\\lib\\site-packages (from python-dateutil>=2.7->matplotlib) (1.16.0)\n",
      "Note: you may need to restart the kernel to use updated packages.\n"
     ]
    },
    {
     "name": "stderr",
     "output_type": "stream",
     "text": [
      "\n",
      "[notice] A new release of pip available: 22.3.1 -> 24.0\n",
      "[notice] To update, run: python.exe -m pip install --upgrade pip\n"
     ]
    },
    {
     "name": "stdout",
     "output_type": "stream",
     "text": [
      "Requirement already satisfied: pynput in c:\\users\\nickp\\documents\\northeastern\\semester 6 (spring 2024)\\cs5150\\final\\cs5150finalproject\\venv\\lib\\site-packages (1.7.6)\n",
      "Requirement already satisfied: six in c:\\users\\nickp\\documents\\northeastern\\semester 6 (spring 2024)\\cs5150\\final\\cs5150finalproject\\venv\\lib\\site-packages (from pynput) (1.16.0)\n",
      "Note: you may need to restart the kernel to use updated packages.\n"
     ]
    },
    {
     "name": "stderr",
     "output_type": "stream",
     "text": [
      "\n",
      "[notice] A new release of pip available: 22.3.1 -> 24.0\n",
      "[notice] To update, run: python.exe -m pip install --upgrade pip\n"
     ]
    },
    {
     "name": "stdout",
     "output_type": "stream",
     "text": [
      "Requirement already satisfied: keyboard in c:\\users\\nickp\\documents\\northeastern\\semester 6 (spring 2024)\\cs5150\\final\\cs5150finalproject\\venv\\lib\\site-packages (0.13.5)\n",
      "Note: you may need to restart the kernel to use updated packages.\n"
     ]
    },
    {
     "name": "stderr",
     "output_type": "stream",
     "text": [
      "\n",
      "[notice] A new release of pip available: 22.3.1 -> 24.0\n",
      "[notice] To update, run: python.exe -m pip install --upgrade pip\n"
     ]
    },
    {
     "name": "stdout",
     "output_type": "stream",
     "text": [
      "start\n",
      "000000000000000000000000000000000000000000000000000000000000000000000000000000033333333333333333333333333333333333300000000000000000000000000000000000000000000000000000000000000000000000000000000000000000022222222222200000002222222200000000002200002200000000000000000000000000000000000000000000000000000000000000000001000000000000000010000000000000000000000000000000000000000000000000000000000000000000000000000000000000000000000000000000000000000000000000000000000000000000000000003333333333333000000000000000000003333000000000000000000000000000000000000000000000044000000000000000000003300000000002000000222200000020002220022220000000000000000000000222200000022222200000000222222000000110001000000001100000110000333333333300000022000000000002200000011000002000000003303303300000000020000000000000220000000220000220000000000000000000000000022000000000000002200000000000000000000000111100000000110010001110011000011001110001110000000011000000011000000000000000000222220002222000200002222022000000200200022222200000000022000022000200000000033000000220000030222000200033333333000020000220000220022000022002220000220000000000001000000033333330000000000000003333000000000033333333330000000000333333330000000000000000000000440000000440000000000000000000000002200022220222222220000002222220000002002222200222220000000000000002222200000220000222220000222220000000000000000000003333333330220000022220000003333333333333333333333333333333333333333333333333333301100000000000000000000000000000000000000000000000000000000044000000000440000000000000000001100011111111011110000000011111000000033333333333333333333333333330000000000000000000000000000000000000000000000000000000000000000000000000000000000000000000000000000000000000000000000000000000000000000000000000000000000000000000000000000000000000000000000000000000000000000000000000000000000000000000000440000000000000000002222222222000000002222222200000222200222222200000000222002200000000000220000000022200000003333333333333333333333333333333333333000000000000000004000000000000000000000000000000000\n",
      "finished\n",
      "ok\n"
     ]
    }
   ],
   "source": [
    "%pip install --user gym\n",
    "%pip install pygame --pre\n",
    "%pip install gym[box2d]\n",
    "%pip install numpy\n",
    "%pip install -U matplotlib\n",
    "%pip install pynput\n",
    "%pip install keyboard\n",
    "\n",
    "\n",
    "import gym\n",
    "from gym import wrappers\n",
    "import matplotlib\n",
    "import matplotlib.pyplot as plt\n",
    "import keyboard\n",
    "import time\n",
    "import datetime as dt\n",
    "from datetime import datetime\n",
    "from Box2D import b2Vec2\n",
    "import math\n",
    "    \n",
    "main_loop_time = 0.03 # measured in seconds\n",
    "\n",
    "keys_being_pressed = {\"w\": False, \"a\": False, \"s\": False, \"d\": False}\n",
    "\n",
    "def choosePlayerActionDiscrete(): # choose ONE action based on keys_being_pressed \n",
    "    \n",
    "    if keys_being_pressed['s']: # brake pressed\n",
    "        return 4 # brake\n",
    "    elif keys_being_pressed['w']: # brake off, gas pressed\n",
    "        return 3 # gas\n",
    "    else: #just steering \n",
    "        if (keys_being_pressed['a'] and keys_being_pressed['d']) or not(keys_being_pressed['a'] or keys_being_pressed['d']): # both or neither\n",
    "            return 0 # do nothing, steering cancels out\n",
    "        elif keys_being_pressed['a']: # turn left ... these are backwards???\n",
    "            return 2\n",
    "        else: # turn right\n",
    "            return 1\n",
    "\n",
    "\n",
    "#target env, will create env object ok\n",
    "env = gym.make(\"CarRacing-v2\", render_mode='human', continuous=False)\n",
    "env = gym.make('CarRacing-v2', render_mode='human', continuous=False, domain_randomize=False)\n",
    "\n",
    "# If continuous = False, actions are:\n",
    "# 0: do nothing\n",
    "# 1: steer left   (pretty sure this is actually steer right and vice versa)\n",
    "# 2: steer right\n",
    "# 3: gas\n",
    "# 4: brake\n",
    "\n",
    "# If continuous = True, actions are:\n",
    "# of type numpy.ndarray[] (length 3) \n",
    "# three floats: \n",
    "# index 0: steering, -1 is full left, +1 is full right\n",
    "# index 1: gas\n",
    "# index 2: braking\n",
    "\n",
    "env.reset(seed=3)\n",
    "\n",
    "end_loop = False\n",
    "max_iterations = 100000 #aaa\n",
    "i = 0\n",
    "\n",
    "actions = \"\"\n",
    "positions = []\n",
    "avg_pos = b2Vec2(50, 0)\n",
    "angles = [x for x in range(-180, 180)] #+180 for loop indices\n",
    "xs = []\n",
    "ys = []\n",
    "inner_loop = [147.52, 148.02, 148.45, 148.91, 149.4, 149.85, 150.35, 150.77, 151.06, 151.46, 151.87, 152.29, 152.5, 152.59, 152.68, 152.82, 153.02, 153.26, 153.54, 153.89, 154.26, 154.71, 155.21, 155.71, 156.27, 156.86, 157.46, 158.22, 158.95, 159.73, 160.56, 161.44, 162.46, 163.53, 164.55, 165.73, 166.95, 168.23, 169.69, 171.14, 172.68, 173.28, 172.82, 170.85, 166.85, 160.7, 153.58, 143.33, 134.88, 128.16, 122.42, 117.23, 112.59, 108.24, 104.18, 100.66, 97.17, 93.95, 91.01, 88.34, 85.94, 83.57, 81.22, 79.13, 77.29, 75.47, 73.68, 71.92, 70.39, 69.1, 67.62, 66.38, 65.51, 64.74, 63.97, 63.32, 62.9, 62.56, 62.33, 62.17, 62.1, 62.11, 62.33, 62.75, 63.06, 63.39, 63.74, 64.21, 64.61, 65.13, 65.56, 66.12, 66.66, 66.97, 67.44, 67.84, 68.34, 68.87, 69.42, 70.0, 70.51, 71.22, 71.85, 72.54, 73.21, 73.92, 74.65, 75.58, 76.39, 77.21, 78.08, 79.22, 80.15, 81.35, 82.34, 83.64, 84.69, 86.04, 87.42, 89.1, 90.54, 92.34, 94.16, 96.0, 98.18, 100.08, 102.31, 104.9, 107.2, 109.86, 112.89, 115.96, 119.04, 122.48, 125.98, 130.22, 134.14, 138.82, 143.91, 149.02, 154.54, 160.84, 167.74, 175.04, 179.63, 181.08, 181.12, 179.86, 178.71, 177.5, 176.34, 175.21, 174.07, 173.09, 172.15, 171.27, 170.43, 169.65, 168.91, 168.24, 167.61, 167.04, 166.52, 166.11, 165.69, 165.38, 165.07, 164.81, 164.64, 164.49, 164.41, 164.37, 164.38, 164.44, 164.55, 164.72, 164.94, 165.2, 165.29, 165.76, 165.11, 163.04, 158.56, 153.7, 149.21, 144.76, 140.87, 137.02, 133.55, 130.11, 127.04, 124.17, 121.34, 118.7, 116.25, 113.84, 111.76, 109.57, 107.7, 105.72, 103.91, 102.28, 100.67, 99.09, 97.68, 96.29, 94.94, 93.73, 92.55, 91.4, 90.28, 89.3, 88.34, 87.41, 86.5, 85.62, 84.87, 84.04, 83.34, 82.66, 82.0, 81.37, 80.84, 80.26, 79.71, 79.25, 78.81, 78.39, 77.95, 77.58, 77.24, 76.91, 76.62, 76.38, 76.13, 75.91, 75.71, 75.54, 75.39, 75.27, 75.17, 75.1, 75.04, 75.01, 75.0, 75.02, 75.05, 75.11, 75.19, 75.31, 75.43, 75.6, 75.76, 75.95, 76.19, 76.42, 76.72, 76.98, 77.33, 77.71, 78.11, 78.46, 78.91, 79.38, 79.87, 80.39, 80.86, 81.36, 81.71, 81.93, 82.25, 82.54, 82.83, 83.02, 83.07, 83.04, 82.87, 82.81, 82.75, 82.64, 82.55, 82.44, 82.29, 82.14, 81.98, 81.82, 81.66, 81.35, 81.12, 80.91, 80.71, 80.55, 80.4, 80.28, 80.19, 80.12, 80.08, 80.06, 80.06, 80.09, 80.14, 80.21, 80.31, 80.42, 80.57, 80.73, 80.89, 81.05, 81.24, 81.45, 81.68, 81.94, 82.22, 82.57, 82.9, 83.26, 83.7, 84.1, 84.53, 85.01, 85.54, 86.01, 86.58, 87.14, 87.7, 88.22, 88.75, 89.32, 89.9, 90.52, 91.16, 91.92, 92.62, 93.44, 94.29, 95.16, 96.01, 96.79, 97.64, 98.5, 99.39, 100.43, 101.5, 102.62, 103.85, 105.54, 107.36, 110.46, 113.6, 117.97, 124.7, 136.05, 141.38, 143.04, 143.81, 144.69, 145.48, 145.99, 146.49, 146.98]\n",
    "#inner_loop = [-1 for x in range(360)]\n",
    "outer_loop = [165.63, 166.1, 166.61, 167.1, 167.63, 168.13, 168.65, 169.22, 169.72, 170.14, 170.51, 170.66, 170.87, 171.05, 171.16, 171.33, 171.53, 171.77, 172.09, 172.44, 172.76, 173.19, 173.62, 174.15, 174.73, 175.31, 176.01, 176.76, 177.56, 178.41, 179.41, 180.37, 181.39, 182.56, 183.78, 185.07, 186.41, 187.8, 189.25, 190.88, 192.06, 192.64, 192.74, 192.35, 191.17, 189.78, 188.13, 185.53, 182.46, 178.63, 173.84, 168.0, 161.74, 153.75, 146.67, 140.51, 135.61, 131.05, 126.83, 123.17, 119.55, 116.22, 113.18, 110.17, 107.45, 104.76, 102.35, 100.26, 98.18, 96.1, 94.27, 92.47, 90.69, 88.88, 87.37, 85.89, 84.44, 83.35, 82.51, 82.19, 82.14, 82.29, 82.34, 82.46, 82.64, 82.85, 83.07, 83.36, 83.73, 84.04, 84.48, 84.79, 85.26, 85.81, 86.27, 86.78, 87.33, 87.94, 88.59, 89.28, 90.01, 90.89, 92.08, 92.9, 93.61, 94.37, 95.5, 96.35, 97.22, 98.44, 99.7, 100.67, 102.07, 103.84, 105.3, 106.78, 108.22, 110.08, 111.63, 113.63, 115.66, 118.15, 120.26, 122.8, 125.27, 128.12, 130.73, 133.96, 136.94, 140.26, 143.92, 147.63, 151.69, 156.12, 160.59, 165.76, 170.97, 176.9, 182.88, 189.57, 194.91, 197.61, 199.29, 200.67, 201.43, 201.7, 201.05, 200.06, 198.99, 197.76, 196.32, 194.97, 193.72, 192.44, 191.26, 190.27, 189.17, 188.15, 187.32, 186.57, 185.76, 185.12, 184.48, 184.04, 183.62, 183.27, 183.0, 182.74, 182.57, 182.43, 182.36, 182.35, 182.38, 182.47, 182.62, 182.81, 183.09, 183.38, 183.77, 183.95, 184.07, 184.15, 184.17, 183.6, 181.74, 179.36, 176.41, 174.63, 166.98, 162.64, 158.59, 154.74, 151.08, 147.76, 144.64, 141.57, 138.81, 136.21, 133.66, 131.28, 129.06, 126.85, 124.79, 122.92, 121.1, 119.71, 118.23, 116.85, 115.39, 114.04, 112.82, 111.54, 110.43, 109.21, 108.12, 107.07, 106.04, 105.16, 104.19, 103.37, 102.57, 101.81, 101.03, 100.4, 99.69, 99.12, 98.48, 97.96, 97.48, 97.01, 96.58, 96.18, 95.8, 95.46, 95.15, 94.86, 94.61, 94.38, 94.22, 94.05, 93.92, 93.82, 93.75, 93.71, 93.69, 93.71, 93.75, 93.82, 93.91, 94.04, 94.21, 94.4, 94.63, 94.84, 95.13, 95.44, 95.78, 96.15, 96.55, 96.98, 97.44, 98.01, 98.5, 98.98, 99.44, 99.88, 100.16, 100.51, 100.87, 101.27, 101.55, 101.85, 102.16, 102.42, 102.4, 102.38, 102.3, 102.19, 101.96, 101.69, 101.47, 101.24, 100.96, 100.72, 100.3, 99.99, 99.71, 99.41, 99.14, 98.91, 98.63, 98.42, 98.23, 98.06, 97.91, 97.81, 97.73, 97.68, 97.66, 97.66, 97.7, 97.75, 97.79, 97.87, 97.98, 98.11, 98.29, 98.47, 98.72, 98.96, 99.27, 99.55, 99.93, 100.27, 100.71, 101.18, 101.68, 102.09, 102.62, 103.12, 103.61, 104.08, 104.61, 105.17, 105.75, 106.37, 107.0, 107.63, 108.39, 109.06, 109.87, 110.6, 111.46, 112.19, 113.04, 113.94, 114.87, 115.93, 117.38, 119.13, 121.49, 124.9, 129.01, 134.14, 140.86, 148.19, 151.61, 153.96, 155.89, 157.66, 159.13, 160.6, 161.25, 161.94, 162.64, 163.27, 163.91, 164.46, 164.85, 165.21]\n",
    "\n",
    "while (i < max_iterations and not end_loop): #main gameplay loop\n",
    "    i += 1\n",
    "    \n",
    "    for key in ['w', 'a', 's', 'd']:\n",
    "        keys_being_pressed[key] = keyboard.is_pressed(key)\n",
    "\n",
    "    if (keyboard.is_pressed('q')):\n",
    "        end_loop = True\n",
    "\n",
    "    start_time = datetime.now()\n",
    "    target_end_time = start_time + dt.timedelta(seconds=main_loop_time)\n",
    "    \n",
    "    while datetime.now() < target_end_time: # wait for loop time\n",
    "        pass\n",
    "\n",
    "    #print(\"car pos: \"  + str(env.car.hull.position))\n",
    "    vector_to_center = env.car.hull.position - avg_pos\n",
    "    #print(vector_to_center)\n",
    "    rad = math.atan2(vector_to_center.y, vector_to_center.x) # In radians\n",
    "    deg_angle = rad * (180 / 3.14159)\n",
    "    \n",
    "    real_angle = math.floor(deg_angle)\n",
    "    distance_to_center = math.sqrt(vector_to_center.x * vector_to_center.x + vector_to_center.y * vector_to_center.y)\n",
    "    #print(distance_to_center)\n",
    "    \n",
    "    positions.append(env.car.hull.position)\n",
    "    #inner_loop[real_angle + 180] = round(distance_to_center, 2)\n",
    "    xs.append(env.car.hull.position.x)\n",
    "    ys.append(env.car.hull.position.y)\n",
    "    \n",
    "    real_angle = min(max(real_angle, -180), 359)\n",
    "    if inner_loop[real_angle + 180] > round(distance_to_center, 2):\n",
    "        print(\"left track inside at \" + str(real_angle + 180)) \n",
    "    if outer_loop[real_angle + 180] < round(distance_to_center, 2):\n",
    "        print(\"left track outside at \" + str(real_angle + 180)) \n",
    "\n",
    "    #show image\n",
    "    env.render()\n",
    "    #action = env.action_space.sample()\n",
    "    action = choosePlayerActionDiscrete()\n",
    "    #print(str(type(action)))\n",
    "    actions += str(action)\n",
    "    env.step(action)\n",
    "env.close()\n",
    "print(\"start\")\n",
    "print(actions)\n",
    "print(\"finished\")\n",
    "\n",
    "#for i in range(360):\n",
    "#    if inner_loop[i] > outer_loop[i]:\n",
    "#        print(i)\n",
    "#        print(\"NOOOOO\")\n",
    "        \n",
    "        \n",
    "print(\"ok\")\n",
    "#print(inner_loop)\n",
    "\n",
    "#fig, ax = plt.subplots()\n",
    "#ax.scatter(xs, ys)\n",
    "#ax.set_xlabel('x')\n",
    "#ax.set_ylabel('y')\n",
    "#ax.set_title(\"map\")\n",
    "#ax = plt.gca()\n",
    "\n",
    "#plt.show()\n"
   ]
  },
  {
   "cell_type": "code",
   "execution_count": 7,
   "outputs": [],
   "source": [],
   "metadata": {
    "collapsed": false,
    "ExecuteTime": {
     "end_time": "2024-04-12T01:09:09.698955200Z",
     "start_time": "2024-04-12T01:09:09.690603500Z"
    }
   }
  },
  {
   "cell_type": "code",
   "execution_count": 2,
   "outputs": [],
   "source": [],
   "metadata": {
    "collapsed": false,
    "ExecuteTime": {
     "end_time": "2024-04-11T18:15:47.889470500Z",
     "start_time": "2024-04-11T18:15:47.867408Z"
    }
   }
  },
  {
   "cell_type": "code",
   "execution_count": null,
   "outputs": [],
   "source": [],
   "metadata": {
    "collapsed": false
   }
  }
 ],
 "metadata": {
  "kernelspec": {
   "display_name": "Python 3",
   "language": "python",
   "name": "python3"
  },
  "language_info": {
   "codemirror_mode": {
    "name": "ipython",
    "version": 3
   },
   "file_extension": ".py",
   "mimetype": "text/x-python",
   "name": "python",
   "nbconvert_exporter": "python",
   "pygments_lexer": "ipython3",
   "version": "3.8.10"
  }
 },
 "nbformat": 4,
 "nbformat_minor": 2
}
