{
 "cells": [
  {
   "cell_type": "code",
   "execution_count": null,
   "metadata": {},
   "outputs": [],
   "source": []
  },
  {
   "cell_type": "code",
   "execution_count": 5,
   "metadata": {
    "ExecuteTime": {
     "end_time": "2024-04-15T15:29:46.362871500Z",
     "start_time": "2024-04-15T15:28:35.134265300Z"
    }
   },
   "outputs": [
    {
     "name": "stdout",
     "output_type": "stream",
     "text": [
      "Note: you may need to restart the kernel to use updated packages.\n"
     ]
    },
    {
     "name": "stderr",
     "output_type": "stream",
     "text": [
      "ERROR: Can not perform a '--user' install. User site-packages are not visible in this virtualenv.\n",
      "\n",
      "[notice] A new release of pip available: 22.3.1 -> 24.0\n",
      "[notice] To update, run: python.exe -m pip install --upgrade pip\n"
     ]
    },
    {
     "name": "stdout",
     "output_type": "stream",
     "text": [
      "Requirement already satisfied: pygame in c:\\users\\nickp\\documents\\northeastern\\semester 6 (spring 2024)\\cs5150\\final\\cs5150finalproject\\venv\\lib\\site-packages (2.1.0)\n",
      "Note: you may need to restart the kernel to use updated packages.\n"
     ]
    },
    {
     "name": "stderr",
     "output_type": "stream",
     "text": [
      "\n",
      "[notice] A new release of pip available: 22.3.1 -> 24.0\n",
      "[notice] To update, run: python.exe -m pip install --upgrade pip\n"
     ]
    },
    {
     "name": "stdout",
     "output_type": "stream",
     "text": [
      "Requirement already satisfied: gym[box2d] in c:\\users\\nickp\\documents\\northeastern\\semester 6 (spring 2024)\\cs5150\\final\\cs5150finalproject\\venv\\lib\\site-packages (0.26.2)\n",
      "Requirement already satisfied: numpy>=1.18.0 in c:\\users\\nickp\\documents\\northeastern\\semester 6 (spring 2024)\\cs5150\\final\\cs5150finalproject\\venv\\lib\\site-packages (from gym[box2d]) (1.24.4)\n",
      "Requirement already satisfied: cloudpickle>=1.2.0 in c:\\users\\nickp\\documents\\northeastern\\semester 6 (spring 2024)\\cs5150\\final\\cs5150finalproject\\venv\\lib\\site-packages (from gym[box2d]) (3.0.0)\n",
      "Requirement already satisfied: importlib-metadata>=4.8.0 in c:\\users\\nickp\\documents\\northeastern\\semester 6 (spring 2024)\\cs5150\\final\\cs5150finalproject\\venv\\lib\\site-packages (from gym[box2d]) (7.1.0)\n",
      "Requirement already satisfied: gym-notices>=0.0.4 in c:\\users\\nickp\\documents\\northeastern\\semester 6 (spring 2024)\\cs5150\\final\\cs5150finalproject\\venv\\lib\\site-packages (from gym[box2d]) (0.0.8)\n",
      "Requirement already satisfied: swig==4.* in c:\\users\\nickp\\documents\\northeastern\\semester 6 (spring 2024)\\cs5150\\final\\cs5150finalproject\\venv\\lib\\site-packages (from gym[box2d]) (4.2.1)\n",
      "Requirement already satisfied: box2d-py==2.3.5 in c:\\users\\nickp\\documents\\northeastern\\semester 6 (spring 2024)\\cs5150\\final\\cs5150finalproject\\venv\\lib\\site-packages (from gym[box2d]) (2.3.5)\n",
      "Requirement already satisfied: pygame==2.1.0 in c:\\users\\nickp\\documents\\northeastern\\semester 6 (spring 2024)\\cs5150\\final\\cs5150finalproject\\venv\\lib\\site-packages (from gym[box2d]) (2.1.0)\n",
      "Requirement already satisfied: zipp>=0.5 in c:\\users\\nickp\\documents\\northeastern\\semester 6 (spring 2024)\\cs5150\\final\\cs5150finalproject\\venv\\lib\\site-packages (from importlib-metadata>=4.8.0->gym[box2d]) (3.18.1)\n",
      "Note: you may need to restart the kernel to use updated packages.\n"
     ]
    },
    {
     "name": "stderr",
     "output_type": "stream",
     "text": [
      "\n",
      "[notice] A new release of pip available: 22.3.1 -> 24.0\n",
      "[notice] To update, run: python.exe -m pip install --upgrade pip\n"
     ]
    },
    {
     "name": "stdout",
     "output_type": "stream",
     "text": [
      "Requirement already satisfied: numpy in c:\\users\\nickp\\documents\\northeastern\\semester 6 (spring 2024)\\cs5150\\final\\cs5150finalproject\\venv\\lib\\site-packages (1.24.4)\n",
      "Note: you may need to restart the kernel to use updated packages.\n"
     ]
    },
    {
     "name": "stderr",
     "output_type": "stream",
     "text": [
      "\n",
      "[notice] A new release of pip available: 22.3.1 -> 24.0\n",
      "[notice] To update, run: python.exe -m pip install --upgrade pip\n"
     ]
    },
    {
     "name": "stdout",
     "output_type": "stream",
     "text": [
      "Requirement already satisfied: matplotlib in c:\\users\\nickp\\documents\\northeastern\\semester 6 (spring 2024)\\cs5150\\final\\cs5150finalproject\\venv\\lib\\site-packages (3.7.5)\n",
      "Requirement already satisfied: numpy<2,>=1.20 in c:\\users\\nickp\\documents\\northeastern\\semester 6 (spring 2024)\\cs5150\\final\\cs5150finalproject\\venv\\lib\\site-packages (from matplotlib) (1.24.4)\n",
      "Requirement already satisfied: packaging>=20.0 in c:\\users\\nickp\\documents\\northeastern\\semester 6 (spring 2024)\\cs5150\\final\\cs5150finalproject\\venv\\lib\\site-packages (from matplotlib) (24.0)\n",
      "Requirement already satisfied: importlib-resources>=3.2.0 in c:\\users\\nickp\\documents\\northeastern\\semester 6 (spring 2024)\\cs5150\\final\\cs5150finalproject\\venv\\lib\\site-packages (from matplotlib) (6.4.0)\n",
      "Requirement already satisfied: python-dateutil>=2.7 in c:\\users\\nickp\\documents\\northeastern\\semester 6 (spring 2024)\\cs5150\\final\\cs5150finalproject\\venv\\lib\\site-packages (from matplotlib) (2.9.0.post0)\n",
      "Requirement already satisfied: fonttools>=4.22.0 in c:\\users\\nickp\\documents\\northeastern\\semester 6 (spring 2024)\\cs5150\\final\\cs5150finalproject\\venv\\lib\\site-packages (from matplotlib) (4.51.0)\n",
      "Requirement already satisfied: pillow>=6.2.0 in c:\\users\\nickp\\documents\\northeastern\\semester 6 (spring 2024)\\cs5150\\final\\cs5150finalproject\\venv\\lib\\site-packages (from matplotlib) (10.3.0)\n",
      "Requirement already satisfied: pyparsing>=2.3.1 in c:\\users\\nickp\\documents\\northeastern\\semester 6 (spring 2024)\\cs5150\\final\\cs5150finalproject\\venv\\lib\\site-packages (from matplotlib) (3.1.2)\n",
      "Requirement already satisfied: kiwisolver>=1.0.1 in c:\\users\\nickp\\documents\\northeastern\\semester 6 (spring 2024)\\cs5150\\final\\cs5150finalproject\\venv\\lib\\site-packages (from matplotlib) (1.4.5)\n",
      "Requirement already satisfied: contourpy>=1.0.1 in c:\\users\\nickp\\documents\\northeastern\\semester 6 (spring 2024)\\cs5150\\final\\cs5150finalproject\\venv\\lib\\site-packages (from matplotlib) (1.1.1)\n",
      "Requirement already satisfied: cycler>=0.10 in c:\\users\\nickp\\documents\\northeastern\\semester 6 (spring 2024)\\cs5150\\final\\cs5150finalproject\\venv\\lib\\site-packages (from matplotlib) (0.12.1)\n",
      "Requirement already satisfied: zipp>=3.1.0 in c:\\users\\nickp\\documents\\northeastern\\semester 6 (spring 2024)\\cs5150\\final\\cs5150finalproject\\venv\\lib\\site-packages (from importlib-resources>=3.2.0->matplotlib) (3.18.1)\n",
      "Requirement already satisfied: six>=1.5 in c:\\users\\nickp\\documents\\northeastern\\semester 6 (spring 2024)\\cs5150\\final\\cs5150finalproject\\venv\\lib\\site-packages (from python-dateutil>=2.7->matplotlib) (1.16.0)\n",
      "Note: you may need to restart the kernel to use updated packages.\n"
     ]
    },
    {
     "name": "stderr",
     "output_type": "stream",
     "text": [
      "\n",
      "[notice] A new release of pip available: 22.3.1 -> 24.0\n",
      "[notice] To update, run: python.exe -m pip install --upgrade pip\n"
     ]
    },
    {
     "name": "stdout",
     "output_type": "stream",
     "text": [
      "Requirement already satisfied: pynput in c:\\users\\nickp\\documents\\northeastern\\semester 6 (spring 2024)\\cs5150\\final\\cs5150finalproject\\venv\\lib\\site-packages (1.7.6)\n",
      "Requirement already satisfied: six in c:\\users\\nickp\\documents\\northeastern\\semester 6 (spring 2024)\\cs5150\\final\\cs5150finalproject\\venv\\lib\\site-packages (from pynput) (1.16.0)\n",
      "Note: you may need to restart the kernel to use updated packages.\n"
     ]
    },
    {
     "name": "stderr",
     "output_type": "stream",
     "text": [
      "\n",
      "[notice] A new release of pip available: 22.3.1 -> 24.0\n",
      "[notice] To update, run: python.exe -m pip install --upgrade pip\n",
      "\n",
      "[notice] A new release of pip available: 22.3.1 -> 24.0\n",
      "[notice] To update, run: python.exe -m pip install --upgrade pip\n"
     ]
    },
    {
     "name": "stdout",
     "output_type": "stream",
     "text": [
      "Requirement already satisfied: keyboard in c:\\users\\nickp\\documents\\northeastern\\semester 6 (spring 2024)\\cs5150\\final\\cs5150finalproject\\venv\\lib\\site-packages (0.13.5)\n",
      "Note: you may need to restart the kernel to use updated packages.\n"
     ]
    }
   ],
   "source": [
    "%pip install --user gym\n",
    "%pip install pygame --pre\n",
    "%pip install gym[box2d]\n",
    "%pip install numpy\n",
    "%pip install -U matplotlib\n",
    "%pip install pynput\n",
    "%pip install keyboard\n",
    "\n",
    "\n",
    "import gym\n",
    "from gym import wrappers\n",
    "import keyboard\n",
    "import datetime as dt\n",
    "from datetime import datetime\n",
    "from random import random\n",
    "    \n",
    "main_loop_time = 0.02 # measured in seconds, 50 fps\n",
    "\n",
    "keys_being_pressed = {\"w\": False, \"a\": False, \"s\": False, \"d\": False}\n",
    "\n",
    "def choosePlayerActionDiscrete(): # choose ONE action based on keys_being_pressed \n",
    "    \n",
    "    if keys_being_pressed['s']: # brake pressed\n",
    "        return 4 # brake\n",
    "    elif keys_being_pressed['w']: # brake off, gas pressed\n",
    "        return 3 # gas\n",
    "    else: #just steering \n",
    "        if (keys_being_pressed['a'] and keys_being_pressed['d']) or not(keys_being_pressed['a'] or keys_being_pressed['d']): # both or neither\n",
    "            return 0 # do nothing, steering cancels out\n",
    "        elif keys_being_pressed['a']: # turn left ... these are backwards???\n",
    "            return 2\n",
    "        else: # turn right\n",
    "            return 1\n",
    "\n",
    "def nondeterminism(action, chance_of_mistakes=0.05):\n",
    "    roll = random()\n",
    "    if roll - chance_of_mistakes <= 0: # chance to steer wrong way if you're steering\n",
    "        if action == 2:\n",
    "            return 1\n",
    "        if action == 1:\n",
    "            return 2\n",
    "        \n",
    "    elif roll - (2 * chance_of_mistakes) <= 0: # chance for temporary brake failure \n",
    "        if action == 4:\n",
    "            return 0\n",
    "        \n",
    "    return action\n",
    "    \n",
    "    \n",
    "\n",
    "#target env\n",
    "env = gym.make('CarRacing-v2', render_mode='human', continuous=False, domain_randomize=False)\n",
    "\n",
    "# If continuous = False, actions are:\n",
    "# 0: do nothing\n",
    "# 1: steer left   (pretty sure this is actually steer right and vice versa)\n",
    "# 2: steer right\n",
    "# 3: gas\n",
    "# 4: brake\n",
    "\n",
    "# If continuous = True, actions are:\n",
    "# of type numpy.ndarray[] (length 3) \n",
    "# three floats: \n",
    "# index 0: steering, -1 is full left, +1 is full right\n",
    "# index 1: gas\n",
    "# index 2: braking\n",
    "\n",
    "#env.reset(seed=3)\n",
    "env.reset()\n",
    "\n",
    "end_loop = False\n",
    "max_iterations = 1000000 # just in case\n",
    "i = 0\n",
    "\n",
    "while (i < max_iterations and not end_loop): #main gameplay loop\n",
    "    i += 1\n",
    "    \n",
    "    for key in ['w', 'a', 's', 'd']:\n",
    "        keys_being_pressed[key] = keyboard.is_pressed(key)\n",
    "\n",
    "    if (keyboard.is_pressed('q')):\n",
    "        end_loop = True\n",
    "\n",
    "    start_time = datetime.now()\n",
    "    target_end_time = start_time + dt.timedelta(seconds=main_loop_time)\n",
    "    \n",
    "    while datetime.now() < target_end_time: # wait for loop time\n",
    "        pass\n",
    "\n",
    "    #show image\n",
    "    env.render()\n",
    "    \n",
    "    action = choosePlayerActionDiscrete()\n",
    "    \n",
    "    #normal levels of nondeterminism\n",
    "    action = nondeterminism(action, chance_of_mistakes=0.05)   \n",
    "    \n",
    "    # comment out the line above, uncomment this, and run for very nondeterministic fun \n",
    "    #action = nondeterminism(action, chance_of_mistakes=0.2)\n",
    "    \n",
    "    env.step(action)\n",
    "env.close()\n",
    "\n"
   ]
  },
  {
   "cell_type": "code",
   "execution_count": 7,
   "outputs": [],
   "source": [],
   "metadata": {
    "collapsed": false,
    "ExecuteTime": {
     "end_time": "2024-04-12T01:09:09.698955200Z",
     "start_time": "2024-04-12T01:09:09.690603500Z"
    }
   }
  },
  {
   "cell_type": "code",
   "execution_count": 2,
   "outputs": [],
   "source": [],
   "metadata": {
    "collapsed": false,
    "ExecuteTime": {
     "end_time": "2024-04-11T18:15:47.889470500Z",
     "start_time": "2024-04-11T18:15:47.867408Z"
    }
   }
  },
  {
   "cell_type": "code",
   "execution_count": null,
   "outputs": [],
   "source": [],
   "metadata": {
    "collapsed": false
   }
  }
 ],
 "metadata": {
  "kernelspec": {
   "display_name": "Python 3",
   "language": "python",
   "name": "python3"
  },
  "language_info": {
   "codemirror_mode": {
    "name": "ipython",
    "version": 3
   },
   "file_extension": ".py",
   "mimetype": "text/x-python",
   "name": "python",
   "nbconvert_exporter": "python",
   "pygments_lexer": "ipython3",
   "version": "3.8.10"
  }
 },
 "nbformat": 4,
 "nbformat_minor": 2
}
